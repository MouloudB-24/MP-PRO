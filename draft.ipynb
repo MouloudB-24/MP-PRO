{
 "cells": [
  {
   "cell_type": "markdown",
   "metadata": {},
   "source": []
  },
  {
   "cell_type": "code",
   "execution_count": 21,
   "metadata": {},
   "outputs": [],
   "source": [
    "import numpy as np\n",
    "import seaborn as sns"
   ]
  },
  {
   "cell_type": "code",
   "execution_count": 23,
   "metadata": {},
   "outputs": [
    {
     "data": {
      "text/html": [
       "<div>\n",
       "<style scoped>\n",
       "    .dataframe tbody tr th:only-of-type {\n",
       "        vertical-align: middle;\n",
       "    }\n",
       "\n",
       "    .dataframe tbody tr th {\n",
       "        vertical-align: top;\n",
       "    }\n",
       "\n",
       "    .dataframe thead th {\n",
       "        text-align: right;\n",
       "    }\n",
       "</style>\n",
       "<table border=\"1\" class=\"dataframe\">\n",
       "  <thead>\n",
       "    <tr style=\"text-align: right;\">\n",
       "      <th></th>\n",
       "      <th>total_bill</th>\n",
       "      <th>tip</th>\n",
       "      <th>sex</th>\n",
       "      <th>smoker</th>\n",
       "      <th>day</th>\n",
       "      <th>time</th>\n",
       "      <th>size</th>\n",
       "    </tr>\n",
       "  </thead>\n",
       "  <tbody>\n",
       "    <tr>\n",
       "      <th>0</th>\n",
       "      <td>16.99</td>\n",
       "      <td>1.01</td>\n",
       "      <td>Female</td>\n",
       "      <td>No</td>\n",
       "      <td>Sun</td>\n",
       "      <td>Dinner</td>\n",
       "      <td>2</td>\n",
       "    </tr>\n",
       "    <tr>\n",
       "      <th>1</th>\n",
       "      <td>10.34</td>\n",
       "      <td>1.66</td>\n",
       "      <td>Male</td>\n",
       "      <td>No</td>\n",
       "      <td>Sun</td>\n",
       "      <td>Dinner</td>\n",
       "      <td>3</td>\n",
       "    </tr>\n",
       "    <tr>\n",
       "      <th>2</th>\n",
       "      <td>21.01</td>\n",
       "      <td>3.50</td>\n",
       "      <td>Male</td>\n",
       "      <td>No</td>\n",
       "      <td>Sun</td>\n",
       "      <td>Dinner</td>\n",
       "      <td>3</td>\n",
       "    </tr>\n",
       "    <tr>\n",
       "      <th>3</th>\n",
       "      <td>23.68</td>\n",
       "      <td>3.31</td>\n",
       "      <td>Male</td>\n",
       "      <td>No</td>\n",
       "      <td>Sun</td>\n",
       "      <td>Dinner</td>\n",
       "      <td>2</td>\n",
       "    </tr>\n",
       "    <tr>\n",
       "      <th>4</th>\n",
       "      <td>24.59</td>\n",
       "      <td>3.61</td>\n",
       "      <td>Female</td>\n",
       "      <td>No</td>\n",
       "      <td>Sun</td>\n",
       "      <td>Dinner</td>\n",
       "      <td>4</td>\n",
       "    </tr>\n",
       "  </tbody>\n",
       "</table>\n",
       "</div>"
      ],
      "text/plain": [
       "   total_bill   tip     sex smoker  day    time  size\n",
       "0       16.99  1.01  Female     No  Sun  Dinner     2\n",
       "1       10.34  1.66    Male     No  Sun  Dinner     3\n",
       "2       21.01  3.50    Male     No  Sun  Dinner     3\n",
       "3       23.68  3.31    Male     No  Sun  Dinner     2\n",
       "4       24.59  3.61  Female     No  Sun  Dinner     4"
      ]
     },
     "execution_count": 23,
     "metadata": {},
     "output_type": "execute_result"
    }
   ],
   "source": [
    "df = sns.load_dataset('tips')\n",
    "df.head()"
   ]
  },
  {
   "cell_type": "markdown",
   "metadata": {},
   "source": [
    "# Exemple d'application de la fonction binomtest - Lancer d'une pièce"
   ]
  },
  {
   "cell_type": "code",
   "execution_count": 17,
   "metadata": {},
   "outputs": [
    {
     "name": "stdout",
     "output_type": "stream",
     "text": [
      "La probabilité d'observer 28 piles (ou plus) sous l'hypothèse H0 est très fiable 0.02% -> On rejet H0, \n",
      "la pièce est probablement biaisée!\n"
     ]
    }
   ],
   "source": [
    "from scipy.stats import binomtest\n",
    "\n",
    "n = 40\n",
    "k = 28\n",
    "p0 = 0.5 # --> H0\n",
    "\n",
    "# On fixe la tolérance à alpha\n",
    "alpha = 0.05\n",
    "\n",
    "# Test binomial bilatéral\n",
    "p_value = binomtest(k=k, n=n, p=p0)\n",
    "p_value.pvalue\n",
    "\n",
    "if p_value.pvalue < alpha:\n",
    "    print(f\"La probabilité d'observer 28 piles (ou plus) sous l'hypothèse H0 est très \" \n",
    "          f\"fiable {p_value.pvalue.round(2)}% -> On rejet H0, \\nla pièce est probablement biaisée!\")\n",
    "else:\n",
    "    print(\"Nous avons suffisament d'évidences pour rejeter H0\")"
   ]
  },
  {
   "cell_type": "markdown",
   "metadata": {},
   "source": [
    "# Test Chisquare \n",
    "H0 : \"Les clients donnent les pourboires : 20% le jeudi, 10% le vendredi, 40% le samedi, 30% le dimanche\""
   ]
  },
  {
   "cell_type": "code",
   "execution_count": null,
   "metadata": {},
   "outputs": [],
   "source": [
    "# Théorie\n",
    "expected_frequencies = np.array([0.2, 0.1, 0.4, 0.3])\n",
    "expected_frequencies = expected_frequencies * len(df)\n",
    "\n",
    "# fixer le seuil de télérance alpha\n",
    "alpha = 0.02\n",
    "\n",
    "# Expérience\n",
    "observed_freqiencies = df['day'].value_counts(normalize=False, sort=False).round(2)\n",
    "\n",
    "# Calcul p_value\n",
    "from scipy.stats import chisquare\n",
    "p_value = chisquare(f_obs=observed_freqiencies, f_exp=expected_frequencies).pvalue.round(2)\n",
    "\n",
    "# Comparaison\n",
    "if p_value < alpha:\n",
    "    print(f\"Nous avons suffisament d'évidence pour rejeter H0, p_value {p_value} est inférieur à alpha {alpha}!\")\n",
    "else:\n",
    "    print(f\"Nous n'avons pas suffisament d'évidences pour rejeter H0, p_value {p_value} est supérieur à alpha {alpha}!\")"
   ]
  },
  {
   "cell_type": "markdown",
   "metadata": {},
   "source": [
    "### Chi2 : Contrôle de la distribution des défauts dans un processus de production\n",
    "- Une usine de fabrication d'éléments électroniques identifie quatre catégories lors du contrôle qualité :\n",
    "  - Défaut A\n",
    "  - Défaut B\n",
    "  - Défaut C\n",
    "  - Aucun défaut\n",
    "\n",
    "- La distribution théorique attendue pour ces catégories est la suivante :\n",
    "  - Défaut A : 10 %\n",
    "  - Défaut B : 5 %\n",
    "  - Défaut C : 5 %\n",
    "  - Aucun défaut : 80 %\n",
    "\n",
    "- Un échantillon de 200 pièces est prélevé, et les observations sont :\n",
    "  - Défaut A : 30\n",
    "  - Défaut B : 12\n",
    "  - Défaut C : 8\n",
    "  - Aucun défaut : 150\n",
    "\n",
    "- Question :\n",
    "Testez, au niveau de signification α=0.05, si la distribution observée est conforme à la distribution théorique attendue."
   ]
  },
  {
   "cell_type": "code",
   "execution_count": 69,
   "metadata": {},
   "outputs": [
    {
     "name": "stdout",
     "output_type": "stream",
     "text": [
      "0.09\n",
      "La distribution observée des défauts dans le processus de production NE DEFFÈRE PAS SIGNIFICATIVEMENT de la distribution attendue!\n"
     ]
    }
   ],
   "source": [
    "# Théorie (attendues) pour n = 200 pièces\n",
    "expected_frequencies = np.array([0.1, 0.05, 0.05, 0.8])\n",
    "expected_frequencies = expected_frequencies * 200\n",
    "\n",
    "# Observées\n",
    "observed_frequencies = np.array([30, 12, 8, 150])\n",
    "\n",
    "# alpha\n",
    "alpha = 0.05\n",
    "\n",
    "# Calcul p_value\n",
    "p_value = chisquare(f_obs=observed_frequencies, f_exp=expected_frequencies).pvalue.round(2)\n",
    "print(p_value)\n",
    "\n",
    "# Comparaison\n",
    "if p_value < alpha:\n",
    "    print(f\"La distribution observée des défauts dans le processus de production DEFFÈRE SIGNIFICATIVEMENT de la distribution attendue!\")\n",
    "else:\n",
    "    print(f\"La distribution observée des défauts dans le processus de production NE DEFFÈRE PAS SIGNIFICATIVEMENT de la distribution attendue!\")\n",
    "\n",
    "\n"
   ]
  },
  {
   "cell_type": "code",
   "execution_count": null,
   "metadata": {},
   "outputs": [],
   "source": []
  },
  {
   "cell_type": "code",
   "execution_count": null,
   "metadata": {},
   "outputs": [],
   "source": []
  }
 ],
 "metadata": {
  "kernelspec": {
   "display_name": "ml-pro",
   "language": "python",
   "name": "ml-pro"
  },
  "language_info": {
   "codemirror_mode": {
    "name": "ipython",
    "version": 3
   },
   "file_extension": ".py",
   "mimetype": "text/x-python",
   "name": "python",
   "nbconvert_exporter": "python",
   "pygments_lexer": "ipython3",
   "version": "3.12.0"
  }
 },
 "nbformat": 4,
 "nbformat_minor": 2
}
