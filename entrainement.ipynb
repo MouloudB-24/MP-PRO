{
 "cells": [
  {
   "cell_type": "markdown",
   "metadata": {},
   "source": [
    "# Tests d'Hypothèse"
   ]
  },
  {
   "cell_type": "code",
   "execution_count": 41,
   "metadata": {},
   "outputs": [],
   "source": [
    "import numpy as np\n",
    "import seaborn as sns\n",
    "import pandas as pd\n",
    "import matplotlib.pyplot as plt"
   ]
  },
  {
   "cell_type": "code",
   "execution_count": 2,
   "metadata": {},
   "outputs": [
    {
     "data": {
      "text/html": [
       "<div>\n",
       "<style scoped>\n",
       "    .dataframe tbody tr th:only-of-type {\n",
       "        vertical-align: middle;\n",
       "    }\n",
       "\n",
       "    .dataframe tbody tr th {\n",
       "        vertical-align: top;\n",
       "    }\n",
       "\n",
       "    .dataframe thead th {\n",
       "        text-align: right;\n",
       "    }\n",
       "</style>\n",
       "<table border=\"1\" class=\"dataframe\">\n",
       "  <thead>\n",
       "    <tr style=\"text-align: right;\">\n",
       "      <th></th>\n",
       "      <th>total_bill</th>\n",
       "      <th>tip</th>\n",
       "      <th>sex</th>\n",
       "      <th>smoker</th>\n",
       "      <th>day</th>\n",
       "      <th>time</th>\n",
       "      <th>size</th>\n",
       "    </tr>\n",
       "  </thead>\n",
       "  <tbody>\n",
       "    <tr>\n",
       "      <th>0</th>\n",
       "      <td>16.99</td>\n",
       "      <td>1.01</td>\n",
       "      <td>Female</td>\n",
       "      <td>No</td>\n",
       "      <td>Sun</td>\n",
       "      <td>Dinner</td>\n",
       "      <td>2</td>\n",
       "    </tr>\n",
       "    <tr>\n",
       "      <th>1</th>\n",
       "      <td>10.34</td>\n",
       "      <td>1.66</td>\n",
       "      <td>Male</td>\n",
       "      <td>No</td>\n",
       "      <td>Sun</td>\n",
       "      <td>Dinner</td>\n",
       "      <td>3</td>\n",
       "    </tr>\n",
       "    <tr>\n",
       "      <th>2</th>\n",
       "      <td>21.01</td>\n",
       "      <td>3.50</td>\n",
       "      <td>Male</td>\n",
       "      <td>No</td>\n",
       "      <td>Sun</td>\n",
       "      <td>Dinner</td>\n",
       "      <td>3</td>\n",
       "    </tr>\n",
       "    <tr>\n",
       "      <th>3</th>\n",
       "      <td>23.68</td>\n",
       "      <td>3.31</td>\n",
       "      <td>Male</td>\n",
       "      <td>No</td>\n",
       "      <td>Sun</td>\n",
       "      <td>Dinner</td>\n",
       "      <td>2</td>\n",
       "    </tr>\n",
       "    <tr>\n",
       "      <th>4</th>\n",
       "      <td>24.59</td>\n",
       "      <td>3.61</td>\n",
       "      <td>Female</td>\n",
       "      <td>No</td>\n",
       "      <td>Sun</td>\n",
       "      <td>Dinner</td>\n",
       "      <td>4</td>\n",
       "    </tr>\n",
       "  </tbody>\n",
       "</table>\n",
       "</div>"
      ],
      "text/plain": [
       "   total_bill   tip     sex smoker  day    time  size\n",
       "0       16.99  1.01  Female     No  Sun  Dinner     2\n",
       "1       10.34  1.66    Male     No  Sun  Dinner     3\n",
       "2       21.01  3.50    Male     No  Sun  Dinner     3\n",
       "3       23.68  3.31    Male     No  Sun  Dinner     2\n",
       "4       24.59  3.61  Female     No  Sun  Dinner     4"
      ]
     },
     "execution_count": 2,
     "metadata": {},
     "output_type": "execute_result"
    }
   ],
   "source": [
    "df = sns.load_dataset('tips')\n",
    "df.head()"
   ]
  },
  {
   "cell_type": "markdown",
   "metadata": {},
   "source": [
    "# I. Etude Univarie\n",
    "# Test binomial - var discrète\n",
    "-  **Évaluer si le nombre de succès (ou échecs) dans une série d'éssais binaires suit une distribution théorique.**\n",
    "## Exemple d'application de la fonction binomtest - Lancer d'une pièce"
   ]
  },
  {
   "cell_type": "code",
   "execution_count": 4,
   "metadata": {},
   "outputs": [
    {
     "name": "stdout",
     "output_type": "stream",
     "text": [
      "La probabilité d'observer 28 piles (ou plus) sous l'hypothèse H0 est très fiable 0.02% -> On rejet H0, \n",
      "la pièce est probablement biaisée!\n"
     ]
    }
   ],
   "source": [
    "from scipy.stats import binomtest\n",
    "\n",
    "n = 40\n",
    "k = 28\n",
    "p0 = 0.5 # --> H0\n",
    "\n",
    "# On fixe la tolérance à alpha\n",
    "alpha = 0.05\n",
    "\n",
    "# Test binomial bilatéral\n",
    "p_value = binomtest(k=k, n=n, p=p0)\n",
    "p_value.pvalue\n",
    "\n",
    "if p_value.pvalue < alpha:\n",
    "    print(f\"La probabilité d'observer 28 piles (ou plus) sous l'hypothèse H0 est très \" \n",
    "          f\"fiable {p_value.pvalue.round(2)}% -> On rejet H0, \\nla pièce est probablement biaisée!\")\n",
    "else:\n",
    "    print(\"Nous avons suffisament d'évidences pour rejeter H0\")"
   ]
  },
  {
   "cell_type": "markdown",
   "metadata": {},
   "source": [
    "# Test Chisquare -> Var discrète\n",
    "- **Compare les fréquences observées à des féquences attendues dans plusieurs catégories (>binaires)**\n",
    "\n",
    "H0 : \"Les clients donnent les pourboires : 20% le jeudi, 10% le vendredi, 40% le samedi, 30% le dimanche\""
   ]
  },
  {
   "cell_type": "code",
   "execution_count": 5,
   "metadata": {},
   "outputs": [
    {
     "name": "stdout",
     "output_type": "stream",
     "text": [
      "Nous n'avons pas suffisament d'évidences pour rejeter H0, p_value 0.11 est supérieur à alpha 0.02!\n"
     ]
    }
   ],
   "source": [
    "# Théorie\n",
    "expected_frequencies = np.array([0.2, 0.1, 0.4, 0.3])\n",
    "expected_frequencies = expected_frequencies * len(df)\n",
    "\n",
    "# fixer le seuil de télérance alpha\n",
    "alpha = 0.02\n",
    "\n",
    "# Expérience\n",
    "observed_freqiencies = df['day'].value_counts(normalize=False, sort=False).round(2)\n",
    "\n",
    "# Calcul p_value\n",
    "from scipy.stats import chisquare\n",
    "p_value = chisquare(f_obs=observed_freqiencies, f_exp=expected_frequencies).pvalue.round(2)\n",
    "\n",
    "# Comparaison\n",
    "if p_value < alpha:\n",
    "    print(f\"Nous avons suffisament d'évidence pour rejeter H0, p_value {p_value} est inférieur à alpha {alpha}!\")\n",
    "else:\n",
    "    print(f\"Nous n'avons pas suffisament d'évidences pour rejeter H0, p_value {p_value} est supérieur à alpha {alpha}!\")"
   ]
  },
  {
   "cell_type": "markdown",
   "metadata": {},
   "source": [
    "### Exo : Contrôle de la distribution des défauts dans un processus de production\n",
    "- Une usine de fabrication d'éléments électroniques identifie quatre catégories lors du contrôle qualité :\n",
    "  - Défaut A\n",
    "  - Défaut B\n",
    "  - Défaut C\n",
    "  - Aucun défaut\n",
    "\n",
    "- La distribution théorique attendue pour ces catégories est la suivante :\n",
    "  - Défaut A : 10 %\n",
    "  - Défaut B : 5 %\n",
    "  - Défaut C : 5 %\n",
    "  - Aucun défaut : 80 %\n",
    "\n",
    "- Un échantillon de 200 pièces est prélevé, et les observations sont :\n",
    "  - Défaut A : 30\n",
    "  - Défaut B : 12\n",
    "  - Défaut C : 8\n",
    "  - Aucun défaut : 150\n",
    "\n",
    "- Question :\n",
    "Testez, au niveau de signification α=0.05, si la distribution observée est conforme à la distribution théorique attendue."
   ]
  },
  {
   "cell_type": "code",
   "execution_count": 69,
   "metadata": {},
   "outputs": [
    {
     "name": "stdout",
     "output_type": "stream",
     "text": [
      "0.09\n",
      "La distribution observée des défauts dans le processus de production NE DEFFÈRE PAS SIGNIFICATIVEMENT de la distribution attendue!\n"
     ]
    }
   ],
   "source": [
    "# Théorie (attendues) pour n = 200 pièces\n",
    "expected_frequencies = np.array([0.1, 0.05, 0.05, 0.8])\n",
    "expected_frequencies = expected_frequencies * 200\n",
    "\n",
    "# Observées\n",
    "observed_frequencies = np.array([30, 12, 8, 150])\n",
    "\n",
    "# alpha\n",
    "alpha = 0.05\n",
    "\n",
    "# Calcul p_value\n",
    "p_value = chisquare(f_obs=observed_frequencies, f_exp=expected_frequencies).pvalue.round(2)\n",
    "print(p_value)\n",
    "\n",
    "# Comparaison\n",
    "if p_value < alpha:\n",
    "    print(f\"La distribution observée des défauts dans le processus de production DEFFÈRE SIGNIFICATIVEMENT de la distribution attendue!\")\n",
    "else:\n",
    "    print(f\"La distribution observée des défauts dans le processus de production NE DEFFÈRE PAS SIGNIFICATIVEMENT de la distribution attendue!\")\n",
    "\n",
    "\n"
   ]
  },
  {
   "cell_type": "markdown",
   "metadata": {},
   "source": [
    "# Test student -> var continue\n",
    "\n",
    "### Exo d'application en Maintenance Prédictive\n",
    "- **Contexte :**\n",
    "Dans une usine, on surveille la température de fonctionnement d'un équipement critique. La température de référence (théorique) pour un fonctionnement optimal est de 75°C. Un capteur enregistre les températures de 30 machines. Le service maintenance souhaite vérifier si la moyenne réelle des températures diffère significativement de 75°C, ce qui pourrait indiquer un problème nécessitant une intervention.\n",
    "\n",
    "- **Données :** Supposons que les mesures de température (en °C) enregistrées soient les suivantes (exemple fictif)\n",
    "\n",
    "temperatures = [74.2, 75.1, 75.3, 76.0, 74.8, 75.5, 76.2, 75.0, 74.9, 75.6,\n",
    "                75.1, 74.7, 75.8, 76.1, 75.2, 74.6, 75.3, 75.4, 76.0, 75.0,\n",
    "                74.8, 75.7, 75.9, 75.0, 74.9, 75.2, 75.6, 74.8, 75.4, 75.1]\n",
    "\n"
   ]
  },
  {
   "cell_type": "code",
   "execution_count": 24,
   "metadata": {},
   "outputs": [
    {
     "name": "stdout",
     "output_type": "stream",
     "text": [
      "H0 : La température optimale de fonctionnement du l'équipement est de 75°C.\n",
      "\n",
      "La températeure moyenne des machines diffère significativement de la températeure optimale de fonctionnement du l'équipement,\n",
      "indiquant un potentiel problème de fonctionnement!\n"
     ]
    }
   ],
   "source": [
    "print(\"H0 : La température optimale de fonctionnement du l'équipement est de 75°C.\\n\")\n",
    "popmean = 75.0\n",
    "\n",
    "# alpha \n",
    "alpha = 0.05\n",
    "\n",
    "# Données observées\n",
    "temperatures = np.array([74.2, 75.1, 75.3, 76.0, 74.8, 75.5, 76.2, 75.0, 74.9, 75.6,\n",
    "                         75.1, 74.7, 75.8, 76.1, 75.2, 74.6, 75.3, 75.4, 76.0, 75.0,\n",
    "                         74.8, 75.7, 75.9, 75.0, 74.9, 75.2, 75.6, 74.8, 75.4, 75.1])\n",
    "\n",
    "# Calcul de p_value\n",
    "from scipy.stats import ttest_1samp\n",
    "t_stat, p_value = ttest_1samp(a=temperatures, popmean=popmean)\n",
    "\n",
    "# Comparaison \n",
    "if p_value < alpha:\n",
    "    print(\"La températeure moyenne des machines diffère significativement de la températeure optimale de fonctionnement du l'équipement,\"\n",
    "    \"\\nindiquant un potentiel problème de fonctionnement!\")\n",
    "else:\n",
    "    print(\"La températeure moyenne des machines ne diffère pas significativement de la températeure optimale de fonctionnement du l'équipement.\")\n"
   ]
  },
  {
   "cell_type": "markdown",
   "metadata": {},
   "source": [
    "# II. Etude Multivarie\n",
    "# Test chi2_contingency -> var discrète - var discrète\n",
    "### Exo : Association entre bruit anormal et défaillance\n",
    "- Contexte :\n",
    "Dans un centre de maintenance, on souhaite savoir si la présence d'un bruit anormal dans les machines est associée à une défaillance ultérieure.\n",
    "\n",
    "- Données :\n",
    "Sur un échantillon de 150 machines, les observations sont les suivantes :\n",
    "\n",
    "  - Machines présentant un bruit anormal :\n",
    "       - Défaillance : 20\n",
    "       - Pas de défaillance : 40\n",
    "       - Total : 60\n",
    "\n",
    "  - Machines sans bruit anormal :\n",
    "      - Défaillance : 10\n",
    "      - Pas de défaillance : 80\n",
    "      - Total : 90\n",
    "\n",
    "- Objectif :\n",
    "Tester l'hypothèse que le bruit anormal est indépendant de la survenue de défaillance (H₀ : pas d'association) contre H₁ : il existe une association, au niveau de signification α=0.05.\n",
    "\n",
    "| état | Défaillance | Pas de défaillance 3 |\n",
    "|-----------|-----------|-----------|\n",
    "| Bruit anormal  | 20 | 40 |\n",
    "| Pas de bruit  | 10  | 80 |"
   ]
  },
  {
   "cell_type": "code",
   "execution_count": 25,
   "metadata": {},
   "outputs": [
    {
     "name": "stdout",
     "output_type": "stream",
     "text": [
      "On rejet H0! On conclut qu'il existe une association significative entre le buit anormal et la survenue d'une défaillance.\n",
      "On pratique, cela suggère que la bruit anormal peut être un indicateur utile dans un système de maintenance prédictive\n"
     ]
    }
   ],
   "source": [
    "from scipy.stats import chi2_contingency\n",
    "\n",
    "tableau = [[20, 40],\n",
    "           [10, 80]]\n",
    "\n",
    "# alpha = 0.05\n",
    "\n",
    "chi2_stat, p_value, dof, expected = chi2_contingency(tableau)\n",
    "\n",
    "if p_value < alpha:\n",
    "    print(\"On rejet H0! On conclut qu'il existe une association significative entre le buit anormal et la survenue \"\n",
    "    \"d'une défaillance.\\nOn pratique, cela suggère que la bruit anormal peut être un indicateur utile dans un système \"\n",
    "    \"de maintenance prédictive\")\n",
    "else:\n",
    "    print(\"Nous n'avons pas suffisament d'évidences pour rejeter H0\")"
   ]
  },
  {
   "cell_type": "markdown",
   "metadata": {},
   "source": [
    "# Test student (2 échantillons indépendants)\n",
    "**\"Compare la moyenne d'une variable continue entre deux groupes indépendants pour déterminer si la différence observée est statiquement significative\"**"
   ]
  },
  {
   "cell_type": "markdown",
   "metadata": {},
   "source": [
    "### Exercice d'Application en Maintenance Prédictive\n",
    "**Contexte :**\n",
    "Dans le cadre de la maintenance prédictive, on souhaite étudier si la vibration moyenne d’un équipement diffère entre les machines qui ont présenté une défaillance et celles qui n’en ont pas présenté. L'hypothèse est que des vibrations anormales pourraient être un indicateur précurseur de défaillance.\n",
    "\n",
    "**Données :**\n",
    "- Groupe 1 (Machines ayant présenté une défaillance) :\n",
    "\n",
    "Vibration (en mm/s) mesurée sur 15 machines :\n",
    "[4.2, 4.5, 4.1, 4.8, 4.6, 4.7, 4.3, 4.9, 4.4, 4.6, 4.8, 4.2, 4.7, 4.5, 4.3]\n",
    "\n",
    "- Groupe 2 (Machines sans défaillance) :\n",
    "\n",
    "Vibration (en mm/s) mesurée sur 20 machines :\n",
    "[3.9, 4.0, 4.1, 3.8, 4.0, 3.9, 4.1, 4.2, 3.8, 4.0, 4.1, 3.9, 4.0, 4.1, 3.8, 4.0, 4.1, 3.9, 4.0, 4.1]\n",
    "\n",
    "**Objectif :**\n",
    "Tester l'hypothèse que la moyenne de vibration est différente entre les deux groupes."
   ]
  },
  {
   "cell_type": "code",
   "execution_count": 42,
   "metadata": {},
   "outputs": [
    {
     "data": {
      "text/plain": [
       "Text(0.5, 1.0, 'Vibrations des machines : Défaillances vs Sans défaillances')"
      ]
     },
     "execution_count": 42,
     "metadata": {},
     "output_type": "execute_result"
    },
    {
     "data": {
      "image/png": "[encoded data removed]",
      "text/plain": [
       "<Figure size 640x480 with 1 Axes>"
      ]
     },
     "metadata": {},
     "output_type": "display_data"
    }
   ],
   "source": [
    "groupe1 = [4.2, 4.5, 4.1, 4.8, 4.6, 4.7, 4.3, 4.9, 4.4, 4.6, 4.8, 4.2, 4.7, 4.5, 4.3]\n",
    "groupe2 = [3.9, 4.0, 4.1, 3.8, 4.0, 3.9, 4.1, 4.2, 3.8, 4.0, 4.1, 3.9, 4.0, 4.1, 3.8, 4.0, 4.1, 3.9, 4.0, 4.1]\n",
    "\n",
    "data = {\n",
    "    \"Vibrations (mm/s)\": groupe1 + groupe2,\n",
    "    \"Groupe\": [\"Défaillance\"] * len(groupe1) + [\"Sans Défaillance\"] * len(groupe2)\n",
    "}\n",
    "\n",
    "df = pd.DataFrame(data)\n",
    "\n",
    "sns.boxplot(data=df, x='Groupe', y='Vibrations (mm/s)')\n",
    "plt.title(\"Vibrations des machines : Défaillances vs Sans défaillances\")"
   ]
  },
  {
   "cell_type": "code",
   "execution_count": 53,
   "metadata": {},
   "outputs": [
    {
     "name": "stdout",
     "output_type": "stream",
     "text": [
      "H0 : Les moyennes des vibrations sont égales pour les machines avec et sans défaillance.\n",
      "\n",
      "On rejete H0; la moyenne des vibrations des machines avec défaillance diffère significativement de celle des machines sans défaillance.\n",
      "=> Les vibrations peut servir de signal précurseur dans la maintenance prédictive.\n"
     ]
    }
   ],
   "source": [
    "print(\"H0 : Les moyennes des vibrations sont égales pour les machines avec et sans défaillance.\\n\")\n",
    "\n",
    "alpha = 0.05\n",
    "\n",
    "vibration_defaillance = groupe1\n",
    "vibrations_sans_defaillance = groupe2\n",
    "\n",
    "from scipy.stats import ttest_ind\n",
    "t_stat, p_value = ttest_ind(a=groupe1, b=groupe2)\n",
    "\n",
    "if p_value < alpha:\n",
    "    print(\"On rejete H0; la moyenne des vibrations des machines avec défaillance diffère significativement de celle des machines sans défaillance.\"\n",
    "    \"\\n=> Les vibrations peut servir de signal précurseur dans la maintenance prédictive.\")\n",
    "else:\n",
    "    print(\"Nous n'avons pas suffisamment d'évidences pour rejeter H0\")\n"
   ]
  },
  {
   "cell_type": "markdown",
   "metadata": {},
   "source": [
    "# Test ANOVA (>= 3 échontillons indépendants)\n",
    "**\"Comparer les moyennes de 3 goupes ou plus pour déterminer s'il existe une différence statistiquement significative entre au moins deux d'entre d'eux\"**"
   ]
  },
  {
   "cell_type": "markdown",
   "metadata": {},
   "source": [
    "### Exo d'application en Maintenance prédictive\n",
    "**Contexte :**\n",
    "Dans le cadre de la maintenance prédictive, on souhaite étudier l'effet de trois types de stratégies de maintenance sur la température moyenne de fonctionnement d’un équipement critique.\n",
    "On suppose que la température optimale est de 75°C et que les variations peuvent être liées au type de maintenance appliqué.\n",
    "\n",
    "**Groupes de Données :**\n",
    "- Groupe 1 (Maintenance prédictive A) :\n",
    "\n",
    "Températures mesurées sur 10 équipements :\n",
    "[74.8, 75.2, 75.0, 74.9, 75.1, 75.3, 74.7, 75.0, 75.1, 75.0]\n",
    "\n",
    "- Groupe 2 (Maintenance prédictive B) :\n",
    "\n",
    "Températures mesurées sur 10 équipements :\n",
    "[75.5, 75.7, 75.6, 75.4, 75.8, 75.6, 75.7, 75.5, 75.6, 75.7]\n",
    "\n",
    "- Groupe 3 (Maintenance standard) :\n",
    "\n",
    "Températures mesurées sur 10 équipements :\n",
    "[74.9, 75.0, 74.8, 74.7, 75.1, 74.9, 74.8, 75.0, 74.9, 75.0]\n",
    "\n",
    "**Objectif :**\n",
    "Tester l'hypothèse que la moyenne des températures est la même pour les trois stratégies de maintenance (H₀) contre l'hypothèse qu'au moins l'une diffère (H₁)."
   ]
  },
  {
   "cell_type": "code",
   "execution_count": 80,
   "metadata": {},
   "outputs": [
    {
     "data": {
      "image/png": "[encoded data removed]",
      "text/plain": [
       "<Figure size 800x500 with 1 Axes>"
      ]
     },
     "metadata": {},
     "output_type": "display_data"
    }
   ],
   "source": [
    "groupe1 = [74.8, 75.2, 75.0, 74.9, 75.1, 75.3, 74.7, 75.0, 75.1, 75.0]\n",
    "groupe2 = [75.5, 75.7, 75.6, 75.4, 75.8, 75.6, 75.7, 75.5, 75.6, 75.7]\n",
    "groupe3 = [74.9, 75.0, 74.8, 74.7, 75.1, 74.9, 74.8, 75.0, 74.9, 75.0]\n",
    "\n",
    "data = {\n",
    "    \"Type Maintenance\": [\"Maintenance Prédictive A\"] * len(groupe1) + [\"Maintenance Prédictive B\"] * len(groupe2) + [\"Maintenance standard\"] * len(groupe3),\n",
    "    \"Température de fonctionnement\": groupe1 + groupe2 + groupe3 \n",
    "}\n",
    "\n",
    "df = pd.DataFrame(data)\n",
    "\n",
    "plt.figure(figsize=(8, 5))\n",
    "sns.boxplot(data=df, x='Type Maintenance', y='Température de fonctionnement')\n",
    "plt.title(\"Température de fonctionnement vs la stratégie de Maintenance appliquée\")\n",
    "plt.show()"
   ]
  },
  {
   "cell_type": "code",
   "execution_count": 85,
   "metadata": {},
   "outputs": [
    {
     "name": "stdout",
     "output_type": "stream",
     "text": [
      "H0 : La Température moyenne de fonctionnement est la même pour les trois stratégies de maintenance appliquée.\n",
      "\n",
      "On rejet H0; le type de stratégie de maintenance a un impact sur la température de fonctionnement.\n"
     ]
    }
   ],
   "source": [
    "print('H0 : La Température moyenne de fonctionnement est la même pour les trois stratégies de maintenance appliquée.\\n')\n",
    "\n",
    "alpha = 0.05\n",
    "\n",
    "df.groupby('Type Maintenance')['Température de fonctionnement'].apply(list)\n",
    "\n",
    "from scipy.stats import f_oneway\n",
    "t_stat, p_value = f_oneway(*df.groupby('Type Maintenance')['Température de fonctionnement'].apply(list))\n",
    "\n",
    "if p_value < alpha:\n",
    "    print(\"On rejet H0; le type de stratégie de maintenance a un impact sur la température de fonctionnement.\")\n",
    "else:\n",
    "    print(\"Aucune différence significative n'a été détectée entre les groupes au niveau de température.\")\n",
    "\n"
   ]
  },
  {
   "cell_type": "code",
   "execution_count": null,
   "metadata": {},
   "outputs": [],
   "source": []
  },
  {
   "cell_type": "code",
   "execution_count": null,
   "metadata": {},
   "outputs": [],
   "source": []
  }
 ],
 "metadata": {
  "kernelspec": {
   "display_name": "ml-pro",
   "language": "python",
   "name": "ml-pro"
  },
  "language_info": {
   "codemirror_mode": {
    "name": "ipython",
    "version": 3
   },
   "file_extension": ".py",
   "mimetype": "text/x-python",
   "name": "python",
   "nbconvert_exporter": "python",
   "pygments_lexer": "ipython3",
   "version": "3.12.0"
  }
 },
 "nbformat": 4,
 "nbformat_minor": 2
}
