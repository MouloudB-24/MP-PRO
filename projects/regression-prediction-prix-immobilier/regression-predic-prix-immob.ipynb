{
 "cells": [
  {
   "cell_type": "markdown",
   "id": "5a9bcb47",
   "metadata": {},
   "source": [
    "# Libraries"
   ]
  },
  {
   "cell_type": "code",
   "execution_count": 1,
   "id": "d45cfbe0",
   "metadata": {},
   "outputs": [],
   "source": [
    "import numpy as np\n",
    "import pandas as pd\n",
    "import seaborn as sns\n",
    "import matplotlib.pyplot as plt"
   ]
  },
  {
   "cell_type": "markdown",
   "id": "1d7b630d",
   "metadata": {},
   "source": [
    "# Data"
   ]
  },
  {
   "cell_type": "code",
   "execution_count": 5,
   "id": "3778cd27",
   "metadata": {},
   "outputs": [
    {
     "data": {
      "text/html": [
       "<div>\n",
       "<style scoped>\n",
       "    .dataframe tbody tr th:only-of-type {\n",
       "        vertical-align: middle;\n",
       "    }\n",
       "\n",
       "    .dataframe tbody tr th {\n",
       "        vertical-align: top;\n",
       "    }\n",
       "\n",
       "    .dataframe thead th {\n",
       "        text-align: right;\n",
       "    }\n",
       "</style>\n",
       "<table border=\"1\" class=\"dataframe\">\n",
       "  <thead>\n",
       "    <tr style=\"text-align: right;\">\n",
       "      <th></th>\n",
       "      <th>OverallQual</th>\n",
       "      <th>GrLivArea</th>\n",
       "      <th>TotalBsmtSF</th>\n",
       "      <th>1stFlrSF</th>\n",
       "      <th>YearBuilt</th>\n",
       "      <th>YearRemodAdd</th>\n",
       "      <th>GarageCars</th>\n",
       "      <th>GarageArea</th>\n",
       "      <th>FullBath</th>\n",
       "      <th>TotRmsAbvGrd</th>\n",
       "      <th>KitchenQual</th>\n",
       "      <th>Fireplaces</th>\n",
       "      <th>LotArea</th>\n",
       "      <th>Neighborhood</th>\n",
       "      <th>ExterQual</th>\n",
       "      <th>SalePrice</th>\n",
       "    </tr>\n",
       "  </thead>\n",
       "  <tbody>\n",
       "    <tr>\n",
       "      <th>0</th>\n",
       "      <td>7</td>\n",
       "      <td>1710</td>\n",
       "      <td>856</td>\n",
       "      <td>856</td>\n",
       "      <td>2003</td>\n",
       "      <td>2003</td>\n",
       "      <td>2</td>\n",
       "      <td>548</td>\n",
       "      <td>2</td>\n",
       "      <td>8</td>\n",
       "      <td>Gd</td>\n",
       "      <td>0</td>\n",
       "      <td>8450</td>\n",
       "      <td>CollgCr</td>\n",
       "      <td>Gd</td>\n",
       "      <td>208500</td>\n",
       "    </tr>\n",
       "    <tr>\n",
       "      <th>1</th>\n",
       "      <td>6</td>\n",
       "      <td>1262</td>\n",
       "      <td>1262</td>\n",
       "      <td>1262</td>\n",
       "      <td>1976</td>\n",
       "      <td>1976</td>\n",
       "      <td>2</td>\n",
       "      <td>460</td>\n",
       "      <td>2</td>\n",
       "      <td>6</td>\n",
       "      <td>TA</td>\n",
       "      <td>1</td>\n",
       "      <td>9600</td>\n",
       "      <td>Veenker</td>\n",
       "      <td>TA</td>\n",
       "      <td>181500</td>\n",
       "    </tr>\n",
       "    <tr>\n",
       "      <th>2</th>\n",
       "      <td>7</td>\n",
       "      <td>1786</td>\n",
       "      <td>920</td>\n",
       "      <td>920</td>\n",
       "      <td>2001</td>\n",
       "      <td>2002</td>\n",
       "      <td>2</td>\n",
       "      <td>608</td>\n",
       "      <td>2</td>\n",
       "      <td>6</td>\n",
       "      <td>Gd</td>\n",
       "      <td>1</td>\n",
       "      <td>11250</td>\n",
       "      <td>CollgCr</td>\n",
       "      <td>Gd</td>\n",
       "      <td>223500</td>\n",
       "    </tr>\n",
       "    <tr>\n",
       "      <th>3</th>\n",
       "      <td>8</td>\n",
       "      <td>1694</td>\n",
       "      <td>1686</td>\n",
       "      <td>1694</td>\n",
       "      <td>2004</td>\n",
       "      <td>2005</td>\n",
       "      <td>2</td>\n",
       "      <td>636</td>\n",
       "      <td>2</td>\n",
       "      <td>7</td>\n",
       "      <td>Gd</td>\n",
       "      <td>1</td>\n",
       "      <td>10084</td>\n",
       "      <td>Somerst</td>\n",
       "      <td>Gd</td>\n",
       "      <td>307000</td>\n",
       "    </tr>\n",
       "    <tr>\n",
       "      <th>4</th>\n",
       "      <td>7</td>\n",
       "      <td>1774</td>\n",
       "      <td>952</td>\n",
       "      <td>1022</td>\n",
       "      <td>1931</td>\n",
       "      <td>1950</td>\n",
       "      <td>2</td>\n",
       "      <td>468</td>\n",
       "      <td>2</td>\n",
       "      <td>8</td>\n",
       "      <td>TA</td>\n",
       "      <td>2</td>\n",
       "      <td>6120</td>\n",
       "      <td>OldTown</td>\n",
       "      <td>TA</td>\n",
       "      <td>129900</td>\n",
       "    </tr>\n",
       "  </tbody>\n",
       "</table>\n",
       "</div>"
      ],
      "text/plain": [
       "   OverallQual  GrLivArea  TotalBsmtSF  1stFlrSF  YearBuilt  YearRemodAdd  \\\n",
       "0            7       1710          856       856       2003          2003   \n",
       "1            6       1262         1262      1262       1976          1976   \n",
       "2            7       1786          920       920       2001          2002   \n",
       "3            8       1694         1686      1694       2004          2005   \n",
       "4            7       1774          952      1022       1931          1950   \n",
       "\n",
       "   GarageCars  GarageArea  FullBath  TotRmsAbvGrd KitchenQual  Fireplaces  \\\n",
       "0           2         548         2             8          Gd           0   \n",
       "1           2         460         2             6          TA           1   \n",
       "2           2         608         2             6          Gd           1   \n",
       "3           2         636         2             7          Gd           1   \n",
       "4           2         468         2             8          TA           2   \n",
       "\n",
       "   LotArea Neighborhood ExterQual  SalePrice  \n",
       "0     8450      CollgCr        Gd     208500  \n",
       "1     9600      Veenker        TA     181500  \n",
       "2    11250      CollgCr        Gd     223500  \n",
       "3    10084      Somerst        Gd     307000  \n",
       "4     6120      OldTown        TA     129900  "
      ]
     },
     "execution_count": 5,
     "metadata": {},
     "output_type": "execute_result"
    }
   ],
   "source": [
    "df = pd.read_csv(\"kaggle_train_set.csv\")\n",
    "df.head()"
   ]
  },
  {
   "cell_type": "markdown",
   "id": "d4225787",
   "metadata": {},
   "source": [
    "# Exploratory Data Analysis - EDA"
   ]
  },
  {
   "cell_type": "code",
   "execution_count": 6,
   "id": "e36133bd",
   "metadata": {},
   "outputs": [
    {
     "name": "stdout",
     "output_type": "stream",
     "text": [
      "<class 'pandas.core.frame.DataFrame'>\n",
      "RangeIndex: 1180 entries, 0 to 1179\n",
      "Data columns (total 16 columns):\n",
      " #   Column        Non-Null Count  Dtype \n",
      "---  ------        --------------  ----- \n",
      " 0   OverallQual   1180 non-null   int64 \n",
      " 1   GrLivArea     1180 non-null   int64 \n",
      " 2   TotalBsmtSF   1180 non-null   int64 \n",
      " 3   1stFlrSF      1180 non-null   int64 \n",
      " 4   YearBuilt     1180 non-null   int64 \n",
      " 5   YearRemodAdd  1180 non-null   int64 \n",
      " 6   GarageCars    1180 non-null   int64 \n",
      " 7   GarageArea    1180 non-null   int64 \n",
      " 8   FullBath      1180 non-null   int64 \n",
      " 9   TotRmsAbvGrd  1180 non-null   int64 \n",
      " 10  KitchenQual   1180 non-null   object\n",
      " 11  Fireplaces    1180 non-null   int64 \n",
      " 12  LotArea       1180 non-null   int64 \n",
      " 13  Neighborhood  1180 non-null   object\n",
      " 14  ExterQual     1180 non-null   object\n",
      " 15  SalePrice     1180 non-null   int64 \n",
      "dtypes: int64(13), object(3)\n",
      "memory usage: 147.6+ KB\n"
     ]
    }
   ],
   "source": [
    "df.info()"
   ]
  },
  {
   "cell_type": "code",
   "execution_count": 7,
   "id": "7bf91408",
   "metadata": {},
   "outputs": [
    {
     "data": {
      "text/plain": [
       "OverallQual      10\n",
       "GrLivArea       761\n",
       "TotalBsmtSF     638\n",
       "1stFlrSF        666\n",
       "YearBuilt       110\n",
       "YearRemodAdd     61\n",
       "GarageCars        5\n",
       "GarageArea      390\n",
       "FullBath          4\n",
       "TotRmsAbvGrd     12\n",
       "KitchenQual       4\n",
       "Fireplaces        4\n",
       "LotArea         882\n",
       "Neighborhood     25\n",
       "ExterQual         4\n",
       "SalePrice       591\n",
       "dtype: int64"
      ]
     },
     "execution_count": 7,
     "metadata": {},
     "output_type": "execute_result"
    }
   ],
   "source": [
    "df.nunique()"
   ]
  },
  {
   "cell_type": "code",
   "execution_count": null,
   "id": "60ae2f2a",
   "metadata": {},
   "outputs": [],
   "source": []
  }
 ],
 "metadata": {
  "kernelspec": {
   "display_name": "ml-pro",
   "language": "python",
   "name": "ml-pro"
  },
  "language_info": {
   "codemirror_mode": {
    "name": "ipython",
    "version": 3
   },
   "file_extension": ".py",
   "mimetype": "text/x-python",
   "name": "python",
   "nbconvert_exporter": "python",
   "pygments_lexer": "ipython3",
   "version": "3.12.0"
  }
 },
 "nbformat": 4,
 "nbformat_minor": 5
}
