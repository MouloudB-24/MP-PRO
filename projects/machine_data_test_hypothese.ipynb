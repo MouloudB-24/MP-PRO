{
 "cells": [
  {
   "cell_type": "markdown",
   "metadata": {},
   "source": [
    "# Un projet en maintenance prédictive intégrant plusieurs types de tests d'hypothèse\n",
    "\n",
    "---\n",
    "\n",
    "### Contexte du projet\n",
    "\n",
    "Une usine industrielle souhaite améliorer sa stratégie de maintenance prédictive. Différents indicateurs ont été collectés sur plusieurs machines sur une période d'un an. Tu disposes des données suivantes :\n",
    "\n",
    "- **Variables continues :**  \n",
    "  - Température de fonctionnement (°C)  \n",
    "  - Vibration (mm/s)  \n",
    "  - Durée d'utilisation avant panne (en jours)\n",
    "\n",
    "- **Variables discrètes :**  \n",
    "  - État de défaillance (Oui/Non)  \n",
    "  - Type de maintenance appliquée (Préventive, Corrective, Prédictive)\n",
    "  - Catégorie de défaut (A, B, C)\n",
    "\n",
    "---\n",
    "\n",
    "### Questions du projet\n",
    "\n",
    "1. **Proportion de Défaillances :**  \n",
    "   On suppose qu’en conditions normales, la probabilité qu’une machine présente une défaillance au cours de l’année est de 10 %.\n",
    "   > **Question :** Quel test utiliser pour vérifier si la proportion observée diffère de 10 % ?  \n",
    "   > **Indications :** Choisis un test adapté aux données binaires et aux proportions.\n",
    "\n",
    "2. **Distribution des Catégories de Défaut :**  \n",
    "   Les défauts observés sur les machines sont classés en catégories A, B et C. La distribution théorique attendue est de 50 % pour A, 30 % pour B et 20 % pour C.  \n",
    "   > **Question :** Quel test utiliser pour comparer la distribution observée avec la distribution attendue ?  \n",
    "   > **Indications :** Pense aux tests d'ajustement pour variables discrètes.\n",
    "\n",
    "3. **Température de Fonctionnement :**  \n",
    "   La température idéale de fonctionnement d’un équipement est fixée à 75°C. Tu disposes des mesures de température pour un échantillon de machines.  \n",
    "   > **Question :** Quel test utiliser pour vérifier si la moyenne observée diffère significativement de 75°C ?  \n",
    "   > **Indications :** Considère un test adapté aux variables continues avec une valeur théorique de référence.\n",
    "\n",
    "4. **Comparaison de Vibrations selon la Défaillance :**  \n",
    "   On souhaite comparer les niveaux de vibration entre deux groupes de machines : celles qui ont connu une défaillance et celles qui ne l'ont pas fait.  \n",
    "   > **Question :** Quel test est indiqué pour comparer les moyennes de vibration de ces deux groupes indépendants ?  \n",
    "   > **Indications :** Rappelle-toi du test t pour échantillons indépendants.\n",
    "\n",
    "5. **Impact du Type de Maintenance sur la Durée de Fonctionnement :**  \n",
    "   Trois stratégies de maintenance (Préventive, Corrective, Prédictive) ont été appliquées. Tu disposes des durées de fonctionnement (en jours) avant panne pour chaque groupe.  \n",
    "   > **Question :** Quel test permet de déterminer s'il existe une différence significative entre les moyennes de durée d'utilisation selon le type de maintenance ?  \n",
    "   > **Indications :** Pense à un test permettant de comparer plus de deux groupes.\n",
    "\n",
    "6. **Relation entre Température et Vibration :**  \n",
    "   Pour chaque machine, tu as enregistré la température et le niveau de vibration.  \n",
    "   > **Question :** Quel test utiliser pour évaluer s'il existe une corrélation linéaire entre la température de fonctionnement et le niveau de vibration ?  \n",
    "   > **Indications :** Réfléchis au test de corrélation entre variables continues.\n",
    "\n",
    "---\n",
    "\n",
    "### Instructions\n",
    "\n",
    "- Pour chaque question, identifie le test statistique le plus approprié en te basant sur les types de variables et l'objectif de l'analyse.\n",
    "- Prépare le code Python correspondant en utilisant SciPy (et éventuellement d'autres bibliothèques comme NumPy ou pandas).\n",
    "- Interprète les résultats obtenus pour guider les décisions en maintenance prédictive.\n",
    "\n",
    "Ce projet te permet de pratiquer tous les tests abordés : test binomial, test Chi², test t (à un échantillon et pour échantillons indépendants), ANOVA et test de corrélation de Pearson. Réfléchis bien à chaque contexte pour choisir la bonne méthode.\n",
    "\n",
    "Bonne exploration !"
   ]
  },
  {
   "cell_type": "code",
   "execution_count": 36,
   "metadata": {},
   "outputs": [],
   "source": [
    "import pandas as pd\n",
    "import numpy as np"
   ]
  },
  {
   "cell_type": "code",
   "execution_count": 5,
   "metadata": {},
   "outputs": [
    {
     "data": {
      "text/html": [
       "<div>\n",
       "<style scoped>\n",
       "    .dataframe tbody tr th:only-of-type {\n",
       "        vertical-align: middle;\n",
       "    }\n",
       "\n",
       "    .dataframe tbody tr th {\n",
       "        vertical-align: top;\n",
       "    }\n",
       "\n",
       "    .dataframe thead th {\n",
       "        text-align: right;\n",
       "    }\n",
       "</style>\n",
       "<table border=\"1\" class=\"dataframe\">\n",
       "  <thead>\n",
       "    <tr style=\"text-align: right;\">\n",
       "      <th></th>\n",
       "      <th>defaillance</th>\n",
       "      <th>maintenance</th>\n",
       "      <th>defaut_category</th>\n",
       "      <th>temperature</th>\n",
       "      <th>vibration</th>\n",
       "      <th>duration</th>\n",
       "    </tr>\n",
       "    <tr>\n",
       "      <th>machine_id</th>\n",
       "      <th></th>\n",
       "      <th></th>\n",
       "      <th></th>\n",
       "      <th></th>\n",
       "      <th></th>\n",
       "      <th></th>\n",
       "    </tr>\n",
       "  </thead>\n",
       "  <tbody>\n",
       "    <tr>\n",
       "      <th>1</th>\n",
       "      <td>Non</td>\n",
       "      <td>Préventive</td>\n",
       "      <td>B</td>\n",
       "      <td>79.779560</td>\n",
       "      <td>3.944414</td>\n",
       "      <td>238.833797</td>\n",
       "    </tr>\n",
       "    <tr>\n",
       "      <th>2</th>\n",
       "      <td>Non</td>\n",
       "      <td>Corrective</td>\n",
       "      <td>A</td>\n",
       "      <td>73.466353</td>\n",
       "      <td>3.961054</td>\n",
       "      <td>171.774972</td>\n",
       "    </tr>\n",
       "    <tr>\n",
       "      <th>3</th>\n",
       "      <td>Non</td>\n",
       "      <td>Prédictive</td>\n",
       "      <td>C</td>\n",
       "      <td>72.031186</td>\n",
       "      <td>4.013143</td>\n",
       "      <td>375.383452</td>\n",
       "    </tr>\n",
       "    <tr>\n",
       "      <th>4</th>\n",
       "      <td>Non</td>\n",
       "      <td>Prédictive</td>\n",
       "      <td>C</td>\n",
       "      <td>74.622639</td>\n",
       "      <td>3.955899</td>\n",
       "      <td>361.729741</td>\n",
       "    </tr>\n",
       "    <tr>\n",
       "      <th>5</th>\n",
       "      <td>Non</td>\n",
       "      <td>Prédictive</td>\n",
       "      <td>C</td>\n",
       "      <td>75.167175</td>\n",
       "      <td>4.289164</td>\n",
       "      <td>280.446023</td>\n",
       "    </tr>\n",
       "  </tbody>\n",
       "</table>\n",
       "</div>"
      ],
      "text/plain": [
       "           defaillance maintenance defaut_category  temperature  vibration  \\\n",
       "machine_id                                                                   \n",
       "1                  Non  Préventive               B    79.779560   3.944414   \n",
       "2                  Non  Corrective               A    73.466353   3.961054   \n",
       "3                  Non  Prédictive               C    72.031186   4.013143   \n",
       "4                  Non  Prédictive               C    74.622639   3.955899   \n",
       "5                  Non  Prédictive               C    75.167175   4.289164   \n",
       "\n",
       "              duration  \n",
       "machine_id              \n",
       "1           238.833797  \n",
       "2           171.774972  \n",
       "3           375.383452  \n",
       "4           361.729741  \n",
       "5           280.446023  "
      ]
     },
     "execution_count": 5,
     "metadata": {},
     "output_type": "execute_result"
    }
   ],
   "source": [
    "df = pd.read_csv('machine_data.csv', index_col='machine_id')\n",
    "df.head()"
   ]
  },
  {
   "cell_type": "code",
   "execution_count": 6,
   "metadata": {},
   "outputs": [
    {
     "name": "stdout",
     "output_type": "stream",
     "text": [
      "<class 'pandas.core.frame.DataFrame'>\n",
      "Index: 300 entries, 1 to 300\n",
      "Data columns (total 6 columns):\n",
      " #   Column           Non-Null Count  Dtype  \n",
      "---  ------           --------------  -----  \n",
      " 0   defaillance      300 non-null    object \n",
      " 1   maintenance      300 non-null    object \n",
      " 2   defaut_category  300 non-null    object \n",
      " 3   temperature      300 non-null    float64\n",
      " 4   vibration        300 non-null    float64\n",
      " 5   duration         300 non-null    float64\n",
      "dtypes: float64(3), object(3)\n",
      "memory usage: 16.4+ KB\n"
     ]
    }
   ],
   "source": [
    "df.info()"
   ]
  },
  {
   "cell_type": "markdown",
   "metadata": {},
   "source": [
    "## 1. Proportion de défaillance --> Test binomial"
   ]
  },
  {
   "cell_type": "code",
   "execution_count": 21,
   "metadata": {},
   "outputs": [
    {
     "data": {
      "text/plain": [
       "defaillance\n",
       "Non    0.89\n",
       "Oui    0.11\n",
       "Name: proportion, dtype: float64"
      ]
     },
     "execution_count": 21,
     "metadata": {},
     "output_type": "execute_result"
    }
   ],
   "source": [
    "df['defaillance'].value_counts(normalize=True).round(2)"
   ]
  },
  {
   "cell_type": "code",
   "execution_count": 28,
   "metadata": {},
   "outputs": [
    {
     "name": "stdout",
     "output_type": "stream",
     "text": [
      "H0; La probabilité d'une machine présente une défaillance au cours de l'année est 10%.\n",
      "\n",
      "Nous n'avons pas suffisamment d'évidences pour rejet H0! cette hypothèse est probablèment juste!\n"
     ]
    }
   ],
   "source": [
    "# Test binomial \n",
    "from scipy.stats import binomtest\n",
    "\n",
    "print(\"H0; La probabilité d'une machine présente une défaillance au cours de l'année est 10%.\\n\")\n",
    "\n",
    "p = 0.1\n",
    "k = 30\n",
    "nombre_machines = 300\n",
    "alpha = 0.05\n",
    "\n",
    "p_value = binomtest(k=k, n=nombre_machines, p=p).pvalue\n",
    "\n",
    "if p_value < alpha:\n",
    "    print(\"La probabilité d'observer d'une présente une défaillance de 10% cours de l'année est très fiable ! On rejet cette hypothèse.\")\n",
    "else:\n",
    "    print(\"Nous n'avons pas suffisamment d'évidences pour rejet H0! cette hypothèse est probablèment juste!\")"
   ]
  },
  {
   "cell_type": "markdown",
   "metadata": {},
   "source": [
    "## 2. Distribution des catégories de défaut"
   ]
  },
  {
   "cell_type": "code",
   "execution_count": 35,
   "metadata": {},
   "outputs": [
    {
     "data": {
      "text/plain": [
       "defaut_category\n",
       "A    0.503333\n",
       "B    0.300000\n",
       "C    0.196667\n",
       "Name: proportion, dtype: float64"
      ]
     },
     "execution_count": 35,
     "metadata": {},
     "output_type": "execute_result"
    }
   ],
   "source": [
    "df['defaut_category'].value_counts(normalize=True)"
   ]
  },
  {
   "cell_type": "code",
   "execution_count": 40,
   "metadata": {},
   "outputs": [
    {
     "name": "stdout",
     "output_type": "stream",
     "text": [
      "H0 : La distribution théorique attendue pour le défaut A 50%, pour le défaut B 30% et 20% pour le défaut A.\n",
      "\n",
      "La distribution observée des défauts NE DIFFERE PAS SIGNIFICATIVEMENT de la distribution attendue.\n"
     ]
    }
   ],
   "source": [
    "print(\"H0 : La distribution théorique attendue pour le défaut A 50%, pour le défaut B 30% et 20% pour le défaut A.\\n\")\n",
    "\n",
    "alpha = 0.05\n",
    "\n",
    "expected_frequencies = np.array([0.5, 0.3, 0.2]) * len(df)\n",
    "observed_frequencies = df['defaut_category'].value_counts(normalize=False).round(2)\n",
    "\n",
    "from scipy.stats import chisquare\n",
    "t_stat, p_value = chisquare(f_obs=observed_frequencies, f_exp=expected_frequencies)\n",
    "\n",
    "if p_value < alpha:\n",
    "    print(\"La distribution observée des défauts DIFFERE SIGNIFICATIVEMENT de la distribution attendue.\")\n",
    "else:\n",
    "    print(\"La distribution observée des défauts NE DIFFERE PAS SIGNIFICATIVEMENT de la distribution attendue.\")\n"
   ]
  },
  {
   "cell_type": "markdown",
   "metadata": {},
   "source": [
    "# 3. Température de fonctionnement"
   ]
  },
  {
   "cell_type": "code",
   "execution_count": 46,
   "metadata": {},
   "outputs": [
    {
     "name": "stdout",
     "output_type": "stream",
     "text": [
      "H0 : La température ideal de fonctionnement d'un équipement est de 75°C.\n",
      "\n",
      "La température moyenne de fonctionnement observée NE DIFFÈRE PAS SIGINIFICATIVEMENT de la température moyenne attendue\n"
     ]
    }
   ],
   "source": [
    "print(\"H0 : La température ideal de fonctionnement d'un équipement est de 75°C.\\n\")\n",
    "popmean = 75.0\n",
    "\n",
    "alpha = 0.05\n",
    "\n",
    "temp = df['temperature']\n",
    "\n",
    "from scipy.stats import ttest_1samp\n",
    "t_stat, p_value = ttest_1samp(a=temp, popmean=popmean)\n",
    "\n",
    "if p_value < alpha:\n",
    "    print(\"La température moyenne de fonctionnement observée DIFFÈRE SIGINIFICATIVEMENT de la température moyenne attendue --> On rejet H0\")\n",
    "else:\n",
    "    print(\"La température moyenne de fonctionnement observée NE DIFFÈRE PAS SIGINIFICATIVEMENT de la température moyenne attendue\") \n",
    "\n"
   ]
  },
  {
   "cell_type": "markdown",
   "metadata": {},
   "source": [
    "4. **Comparaison de Vibrations selon la Défaillance :**"
   ]
  },
  {
   "cell_type": "code",
   "execution_count": 76,
   "metadata": {},
   "outputs": [
    {
     "name": "stdout",
     "output_type": "stream",
     "text": [
      "H0 : La vibration moyenne est identique entre les machines présentant une défaillance et celles qui n'en présentent pas.\n",
      "\n",
      "La vibration moyenne n'est pas identique entre les machines présentant une défaillance et celles qui n'en présentent pas.\n"
     ]
    }
   ],
   "source": [
    "print(\"H0 : La vibration moyenne est identique entre les machines présentant une défaillance et celles qui n'en présentent pas.\\n\")\n",
    "\n",
    "alpha = 0.05\n",
    "\n",
    "machines_avec_def = df.query(\"defaillance=='Oui'\")['vibration']\n",
    "machines_sans_def = df.query(\"defaillance=='Non'\")['vibration']\n",
    "\n",
    "from scipy.stats import ttest_ind\n",
    "t_stat, p_value = ttest_ind(machines_avec_def, machines_sans_def)\n",
    "\n",
    "if p_value < alpha:\n",
    "    print(\"La vibration moyenne n'est pas identique entre les machines présentant une défaillance et celles qui n'en présentent pas.\")\n",
    "else:\n",
    "    print(\"Nous n'avons suffisamment d'évidences pour rejeter H0!\")"
   ]
  },
  {
   "cell_type": "markdown",
   "metadata": {},
   "source": [
    "\n",
    "5. **Impact du Type de Maintenance sur la Durée de Fonctionnement :**  \n",
    "   Trois stratégies de maintenance (Préventive, Corrective, Prédictive) ont été appliquées. Tu disposes des durées de fonctionnement (en jours) avant panne pour chaque groupe.  \n",
    "   > **Question :** Quel test permet de déterminer s'il existe une différence significative entre les moyennes de durée d'utilisation selon le type de maintenance ?  \n",
    "   > **Indications :** Pense à un test permettant de comparer plus de deux groupes."
   ]
  },
  {
   "cell_type": "code",
   "execution_count": 87,
   "metadata": {},
   "outputs": [
    {
     "name": "stdout",
     "output_type": "stream",
     "text": [
      "H0 : La durée de fonctionnement des machines est la même, quel que soit le type de maintenance appliqué (préventive, corrective ou prédictive)\n",
      "\n",
      "La durée de fonctionnement des machines n'est pas la même pour tous les types de maintenance appliqués\n"
     ]
    }
   ],
   "source": [
    "print(\"H0 : La durée de fonctionnement des machines est la même, quel que soit le type de maintenance appliqué (préventive, corrective ou prédictive)\\n\")\n",
    "\n",
    "alpha = 0.05\n",
    "\n",
    "from scipy.stats import f_oneway\n",
    "t_stat, p_value = f_oneway(*df.groupby('maintenance')['duration'].apply(list))\n",
    "\n",
    "if p_value < alpha:\n",
    "    print(\"La durée de fonctionnement des machines n'est pas la même pour tous les types de maintenance appliqués\")\n",
    "else:\n",
    "    print(\"Nous n'avons pas suffisamment d'évidences pour rejeter H0.\")\n",
    "\n"
   ]
  },
  {
   "cell_type": "code",
   "execution_count": 92,
   "metadata": {},
   "outputs": [
    {
     "data": {
      "image/png": "[encoded data removed]",
      "text/plain": [
       "<Figure size 640x480 with 1 Axes>"
      ]
     },
     "metadata": {},
     "output_type": "display_data"
    }
   ],
   "source": [
    "df.groupby('maintenance')['duration'].mean().sort_values().plot.bar();"
   ]
  },
  {
   "cell_type": "markdown",
   "metadata": {},
   "source": [
    "# 6. Correlation entre Température et Vibration"
   ]
  },
  {
   "cell_type": "code",
   "execution_count": 102,
   "metadata": {},
   "outputs": [
    {
     "name": "stdout",
     "output_type": "stream",
     "text": [
      "H0 : Il n'exite pas une corrélation linéaire entre la température et les vibrations d'un équipement.\n",
      "\n",
      "Nous n'avons pas suffisamment d'évidences pour rejeter H0.\n"
     ]
    }
   ],
   "source": [
    "print(\"H0 : Il n'exite pas une corrélation linéaire entre la température et les vibrations d'un équipement.\\n\")\n",
    "\n",
    "alpha = 0.05\n",
    "\n",
    "from scipy.stats import pearsonr\n",
    "t_stat, p_value = pearsonr(df['vibration'], df['temperature'])\n",
    "\n",
    "if p_value < alpha:\n",
    "    print(\"Il existe une relation linéaire entre la température et les vibrations des équipements.\")\n",
    "else:\n",
    "    print(\"Nous n'avons pas suffisamment d'évidences pour rejeter H0.\")"
   ]
  },
  {
   "cell_type": "code",
   "execution_count": 99,
   "metadata": {},
   "outputs": [
    {
     "data": {
      "text/plain": [
       "<Axes: xlabel='vibration', ylabel='temperature'>"
      ]
     },
     "execution_count": 99,
     "metadata": {},
     "output_type": "execute_result"
    },
    {
     "data": {
      "image/png": "[encoded data removed]",
      "text/plain": [
       "<Figure size 640x480 with 1 Axes>"
      ]
     },
     "metadata": {},
     "output_type": "display_data"
    }
   ],
   "source": [
    "import seaborn as sns\n",
    "sns.scatterplot(data=df, x=df['vibration'], y=df['temperature'])"
   ]
  },
  {
   "cell_type": "code",
   "execution_count": null,
   "metadata": {},
   "outputs": [],
   "source": []
  }
 ],
 "metadata": {
  "kernelspec": {
   "display_name": "ml-pro",
   "language": "python",
   "name": "ml-pro"
  },
  "language_info": {
   "codemirror_mode": {
    "name": "ipython",
    "version": 3
   },
   "file_extension": ".py",
   "mimetype": "text/x-python",
   "name": "python",
   "nbconvert_exporter": "python",
   "pygments_lexer": "ipython3",
   "version": "3.12.0"
  }
 },
 "nbformat": 4,
 "nbformat_minor": 2
}
